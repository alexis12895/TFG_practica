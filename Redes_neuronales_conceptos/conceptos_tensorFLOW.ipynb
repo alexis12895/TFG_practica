{
  "nbformat": 4,
  "nbformat_minor": 0,
  "metadata": {
    "colab": {
      "provenance": [],
      "authorship_tag": "ABX9TyMwfZFxZnor07taK4Trtp8D",
      "include_colab_link": true
    },
    "kernelspec": {
      "name": "python3",
      "display_name": "Python 3"
    },
    "language_info": {
      "name": "python"
    },
    "accelerator": "GPU"
  },
  "cells": [
    {
      "cell_type": "markdown",
      "metadata": {
        "id": "view-in-github",
        "colab_type": "text"
      },
      "source": [
        "<a href=\"https://colab.research.google.com/github/alexis12895/TFG_practica/blob/main/Redes_neuronales_conceptos/conceptos_tensorFLOW.ipynb\" target=\"_parent\"><img src=\"https://colab.research.google.com/assets/colab-badge.svg\" alt=\"Open In Colab\"/></a>"
      ]
    },
    {
      "cell_type": "code",
      "execution_count": null,
      "metadata": {
        "id": "MkVjMAk7cB3q"
      },
      "outputs": [],
      "source": [
        "import tensorflow as tf"
      ]
    },
    {
      "cell_type": "code",
      "source": [
        "x = tf.constant([[1., 2., 3.],\n",
        "                [4., 5., 6.]])\n",
        "\n",
        "print(x)\n",
        "print(x.shape)\n",
        "print(x.dtype)"
      ],
      "metadata": {
        "colab": {
          "base_uri": "https://localhost:8080/"
        },
        "id": "PoSRaXj-eEaB",
        "outputId": "1202b15a-1877-4570-efc8-3db41f7b3410"
      },
      "execution_count": null,
      "outputs": [
        {
          "output_type": "stream",
          "name": "stdout",
          "text": [
            "tf.Tensor(\n",
            "[[1. 2. 3.]\n",
            " [4. 5. 6.]], shape=(2, 3), dtype=float32)\n",
            "(2, 3)\n",
            "<dtype: 'float32'>\n"
          ]
        }
      ]
    },
    {
      "cell_type": "code",
      "source": [
        "x + x"
      ],
      "metadata": {
        "colab": {
          "base_uri": "https://localhost:8080/"
        },
        "id": "fCShZt-pq7cN",
        "outputId": "ed874f66-c846-4db8-8a45-d05daed7f661"
      },
      "execution_count": null,
      "outputs": [
        {
          "output_type": "execute_result",
          "data": {
            "text/plain": [
              "<tf.Tensor: shape=(2, 3), dtype=float32, numpy=\n",
              "array([[ 2.,  4.,  6.],\n",
              "       [ 8., 10., 12.]], dtype=float32)>"
            ]
          },
          "metadata": {},
          "execution_count": 151
        }
      ]
    },
    {
      "cell_type": "code",
      "source": [
        "5 * x"
      ],
      "metadata": {
        "colab": {
          "base_uri": "https://localhost:8080/"
        },
        "id": "c26JagPFvygb",
        "outputId": "38ff8190-89ed-437c-90c0-aea3cb36b52d"
      },
      "execution_count": null,
      "outputs": [
        {
          "output_type": "execute_result",
          "data": {
            "text/plain": [
              "<tf.Tensor: shape=(2, 3), dtype=float32, numpy=\n",
              "array([[ 5., 10., 15.],\n",
              "       [20., 25., 30.]], dtype=float32)>"
            ]
          },
          "metadata": {},
          "execution_count": 152
        }
      ]
    },
    {
      "cell_type": "code",
      "source": [
        "x @ tf.transpose(x) #@ es lo mismo que hacer x * tf.transpose(x) , es para multiplicar matrices, en lugar de usar tf.matlmul"
      ],
      "metadata": {
        "colab": {
          "base_uri": "https://localhost:8080/"
        },
        "id": "34oV5ZeMyccd",
        "outputId": "05bbbb45-7e81-4ca4-89b9-4e1cc276369d"
      },
      "execution_count": null,
      "outputs": [
        {
          "output_type": "execute_result",
          "data": {
            "text/plain": [
              "<tf.Tensor: shape=(2, 2), dtype=float32, numpy=\n",
              "array([[14., 32.],\n",
              "       [32., 77.]], dtype=float32)>"
            ]
          },
          "metadata": {},
          "execution_count": 153
        }
      ]
    },
    {
      "cell_type": "code",
      "source": [
        "tf.concat([x,x,x], axis=0)  #concateno tensores"
      ],
      "metadata": {
        "colab": {
          "base_uri": "https://localhost:8080/"
        },
        "id": "8ws6QNPq0QCI",
        "outputId": "c3c48d9f-fa7c-4bcd-9931-b87387bc920c"
      },
      "execution_count": null,
      "outputs": [
        {
          "output_type": "execute_result",
          "data": {
            "text/plain": [
              "<tf.Tensor: shape=(6, 3), dtype=float32, numpy=\n",
              "array([[1., 2., 3.],\n",
              "       [4., 5., 6.],\n",
              "       [1., 2., 3.],\n",
              "       [4., 5., 6.],\n",
              "       [1., 2., 3.],\n",
              "       [4., 5., 6.]], dtype=float32)>"
            ]
          },
          "metadata": {},
          "execution_count": 154
        }
      ]
    },
    {
      "cell_type": "code",
      "source": [
        "tf.nn.softmax(x,axis=-1)  #el valor mas alto tendra la probabilidad mas alta"
      ],
      "metadata": {
        "colab": {
          "base_uri": "https://localhost:8080/"
        },
        "id": "pSN1Qjqv7JYh",
        "outputId": "594ede7f-cd3d-4e84-8f28-ecf01ac61ee2"
      },
      "execution_count": null,
      "outputs": [
        {
          "output_type": "execute_result",
          "data": {
            "text/plain": [
              "<tf.Tensor: shape=(2, 3), dtype=float32, numpy=\n",
              "array([[0.09003057, 0.24472848, 0.6652409 ],\n",
              "       [0.09003057, 0.24472848, 0.6652409 ]], dtype=float32)>"
            ]
          },
          "metadata": {},
          "execution_count": 155
        }
      ]
    },
    {
      "cell_type": "code",
      "source": [
        "tf.reduce_sum(x)  #Es una reduccion en funcion de sus dimensiones, en este caso suma TODOS LOS VALORES, por que esta en ambas dimensiones, rows and columns"
      ],
      "metadata": {
        "colab": {
          "base_uri": "https://localhost:8080/"
        },
        "id": "8QvhhY3L8Yxm",
        "outputId": "c09c3949-6521-404e-c3d1-826aa4926e48"
      },
      "execution_count": null,
      "outputs": [
        {
          "output_type": "execute_result",
          "data": {
            "text/plain": [
              "<tf.Tensor: shape=(), dtype=float32, numpy=21.0>"
            ]
          },
          "metadata": {},
          "execution_count": 156
        }
      ]
    },
    {
      "cell_type": "markdown",
      "source": [
        "Para mas info clara sobre reduce.sum:\n",
        "[texto del enlace](https://stackoverflow.com/questions/47157692/how-does-reduce-sum-work-in-tensorflow)"
      ],
      "metadata": {
        "id": "1tCKNQo3Jz93"
      }
    },
    {
      "cell_type": "code",
      "source": [
        "#Uso del hardware (GPU) para tensorFLOW\n",
        "\n",
        "if tf.config.list_physical_devices('GPU'):\n",
        "  print(\"TensorFlow **IS** using the GPU\")\n",
        "else:\n",
        "  print(\"TensorFlow **IS NOT** using the GPU\")"
      ],
      "metadata": {
        "colab": {
          "base_uri": "https://localhost:8080/"
        },
        "id": "Gpp8AlT9Kkvq",
        "outputId": "14d446b9-bf51-4542-977d-329d5a2cb0d5"
      },
      "execution_count": null,
      "outputs": [
        {
          "output_type": "stream",
          "name": "stdout",
          "text": [
            "TensorFlow **IS** using the GPU\n"
          ]
        }
      ]
    },
    {
      "cell_type": "code",
      "source": [
        "var = tf.Variable([0.0, 0.0, 0.0])"
      ],
      "metadata": {
        "id": "6wb9IFDGLDcG"
      },
      "execution_count": null,
      "outputs": []
    },
    {
      "cell_type": "code",
      "source": [
        "var.assign([1, 2, 3])"
      ],
      "metadata": {
        "colab": {
          "base_uri": "https://localhost:8080/"
        },
        "id": "vhg34ECCOWmp",
        "outputId": "6c1add2b-2e02-410f-dba7-897059831c84"
      },
      "execution_count": null,
      "outputs": [
        {
          "output_type": "execute_result",
          "data": {
            "text/plain": [
              "<tf.Variable 'UnreadVariable' shape=(3,) dtype=float32, numpy=array([1., 2., 3.], dtype=float32)>"
            ]
          },
          "metadata": {},
          "execution_count": 159
        }
      ]
    },
    {
      "cell_type": "code",
      "source": [
        "var.assign_add([1, 1, 1]) #le añade , le suma, un 1 al vector anterior"
      ],
      "metadata": {
        "colab": {
          "base_uri": "https://localhost:8080/"
        },
        "id": "yKkdkDbHOfWI",
        "outputId": "7e3a4ea3-33c3-4b1f-e3fb-8dfb453629ba"
      },
      "execution_count": null,
      "outputs": [
        {
          "output_type": "execute_result",
          "data": {
            "text/plain": [
              "<tf.Variable 'UnreadVariable' shape=(3,) dtype=float32, numpy=array([2., 3., 4.], dtype=float32)>"
            ]
          },
          "metadata": {},
          "execution_count": 160
        }
      ]
    },
    {
      "cell_type": "code",
      "source": [
        "# calculo de derivadas, que se usan para el calculo del descenso del gradiente\n",
        "\n",
        "x = tf.Variable(1.0)\n",
        "\n",
        "def f(x):\n",
        "  y = x**2 + 2*x - 5\n",
        "  return y"
      ],
      "metadata": {
        "id": "oHapPJHNOzV4"
      },
      "execution_count": null,
      "outputs": []
    },
    {
      "cell_type": "code",
      "source": [
        "f(x)"
      ],
      "metadata": {
        "colab": {
          "base_uri": "https://localhost:8080/"
        },
        "id": "-vj4fEWkcOxJ",
        "outputId": "2cfff311-a6c6-4548-9d87-c7de7a22d18f"
      },
      "execution_count": null,
      "outputs": [
        {
          "output_type": "execute_result",
          "data": {
            "text/plain": [
              "<tf.Tensor: shape=(), dtype=float32, numpy=-2.0>"
            ]
          },
          "metadata": {},
          "execution_count": 162
        }
      ]
    },
    {
      "cell_type": "code",
      "source": [
        "with tf.GradientTape() as tape:\n",
        "  y = f(x)\n",
        "\n",
        "g_x = tape.gradient(y, x) #g(x) = dy/dx // se aplica la derivada f(x) en la dim y\n",
        "\n",
        "g_x"
      ],
      "metadata": {
        "colab": {
          "base_uri": "https://localhost:8080/"
        },
        "id": "EW5_6PlqcP8t",
        "outputId": "51cf6034-4865-4509-90f5-a81c31a7dcdd"
      },
      "execution_count": null,
      "outputs": [
        {
          "output_type": "execute_result",
          "data": {
            "text/plain": [
              "<tf.Tensor: shape=(), dtype=float32, numpy=4.0>"
            ]
          },
          "metadata": {},
          "execution_count": 163
        }
      ]
    },
    {
      "cell_type": "code",
      "source": [
        "#Para guardar una funcion en tensorFlow separandola de Phyton\n",
        "@tf.function\n",
        "def my_func(x):\n",
        "  print('Tracing.\\n')\n",
        "  return tf.reduce_sum(x) #Nos devuelve la suma del vector"
      ],
      "metadata": {
        "id": "f5Zu0d_yckvO"
      },
      "execution_count": null,
      "outputs": []
    },
    {
      "cell_type": "code",
      "source": [
        "x = tf.constant([1, 2, 3])\n",
        "my_func(x)  #No imprimira nada ya que eso es parte de python y este funcion solo se ha guardado para el uso de TensorFlow"
      ],
      "metadata": {
        "colab": {
          "base_uri": "https://localhost:8080/"
        },
        "id": "icxbqtFSUmb2",
        "outputId": "ed7291ea-0e94-4bb7-9741-584fb9c35334"
      },
      "execution_count": null,
      "outputs": [
        {
          "output_type": "stream",
          "name": "stdout",
          "text": [
            "Tracing.\n",
            "\n"
          ]
        },
        {
          "output_type": "execute_result",
          "data": {
            "text/plain": [
              "<tf.Tensor: shape=(), dtype=int32, numpy=6>"
            ]
          },
          "metadata": {},
          "execution_count": 165
        }
      ]
    },
    {
      "cell_type": "code",
      "source": [
        "x = tf.constant([10, 9, 8])\n",
        "my_func(x)"
      ],
      "metadata": {
        "colab": {
          "base_uri": "https://localhost:8080/"
        },
        "id": "Ru52sgzGVqKn",
        "outputId": "da948c38-fd83-4bf6-bd0e-ca43ac6800a4"
      },
      "execution_count": null,
      "outputs": [
        {
          "output_type": "execute_result",
          "data": {
            "text/plain": [
              "<tf.Tensor: shape=(), dtype=int32, numpy=27>"
            ]
          },
          "metadata": {},
          "execution_count": 166
        }
      ]
    },
    {
      "cell_type": "code",
      "source": [
        "x = tf.constant([10.0, 9.1, 8.2], dtype=tf.float32)\n",
        "my_func(x)"
      ],
      "metadata": {
        "colab": {
          "base_uri": "https://localhost:8080/"
        },
        "id": "vdDu9GHXX9qN",
        "outputId": "f5a2d98b-aafc-43e0-9020-248db985e180"
      },
      "execution_count": null,
      "outputs": [
        {
          "output_type": "stream",
          "name": "stdout",
          "text": [
            "Tracing.\n",
            "\n"
          ]
        },
        {
          "output_type": "execute_result",
          "data": {
            "text/plain": [
              "<tf.Tensor: shape=(), dtype=float32, numpy=27.3>"
            ]
          },
          "metadata": {},
          "execution_count": 167
        }
      ]
    },
    {
      "cell_type": "markdown",
      "source": [
        "MODELOS Y CAPAS"
      ],
      "metadata": {
        "id": "0OZI6OT6c0xm"
      }
    },
    {
      "cell_type": "code",
      "source": [
        "#creamos un modelo\n",
        "class MyModule(tf.Module):\n",
        "  def __init__(self, value):\n",
        "    self.weight = tf.Variable(value)\n",
        "\n",
        "  @tf.function  #Definimos funciones dentro de TensorFlow\n",
        "  def multiply(self, x):\n",
        "    return x * self.weight"
      ],
      "metadata": {
        "id": "5X2niDyVc7La"
      },
      "execution_count": null,
      "outputs": []
    },
    {
      "cell_type": "code",
      "source": [
        "#tamano de sel.weigh = dimension de x(shape)\n",
        "x"
      ],
      "metadata": {
        "colab": {
          "base_uri": "https://localhost:8080/"
        },
        "id": "MCVR9sZAgHej",
        "outputId": "54a3c2ae-e15c-4508-bfc6-490fcb267d8a"
      },
      "execution_count": null,
      "outputs": [
        {
          "output_type": "execute_result",
          "data": {
            "text/plain": [
              "<tf.Tensor: shape=(3,), dtype=float32, numpy=array([10. ,  9.1,  8.2], dtype=float32)>"
            ]
          },
          "metadata": {},
          "execution_count": 169
        }
      ]
    },
    {
      "cell_type": "code",
      "source": [
        "mod = MyModule(3)\n",
        "mod.multiply(tf.constant([1, 2, 3]))  #Llamamos al metodo multuply y como ves multiplica el ancho de el vector x(shape =3) por el vector que le pasamos por el parametro"
      ],
      "metadata": {
        "colab": {
          "base_uri": "https://localhost:8080/"
        },
        "id": "cZbwwCBzeAjP",
        "outputId": "9d7f8aa6-aac2-4dcb-aa95-ad9bd0bb95d7"
      },
      "execution_count": null,
      "outputs": [
        {
          "output_type": "execute_result",
          "data": {
            "text/plain": [
              "<tf.Tensor: shape=(3,), dtype=int32, numpy=array([3, 6, 9], dtype=int32)>"
            ]
          },
          "metadata": {},
          "execution_count": 170
        }
      ]
    },
    {
      "cell_type": "code",
      "source": [
        "save_path = './saved'\n",
        "tf.saved_model.save(mod, save_path) #guardamos el modelo"
      ],
      "metadata": {
        "colab": {
          "base_uri": "https://localhost:8080/"
        },
        "id": "7XokO6OAeLF8",
        "outputId": "d54e64c7-64cd-4ef7-884e-f01d3ab223a4"
      },
      "execution_count": null,
      "outputs": [
        {
          "output_type": "stream",
          "name": "stdout",
          "text": [
            "INFO:tensorflow:Assets written to: ./saved/assets\n"
          ]
        }
      ]
    },
    {
      "cell_type": "code",
      "source": [
        "#cargamos el modelo\n",
        "reloaded = tf.saved_model.load(save_path)\n",
        "reloaded.multiply(tf.constant([1, 2, 3]))"
      ],
      "metadata": {
        "colab": {
          "base_uri": "https://localhost:8080/"
        },
        "id": "iC7q54AsgrYN",
        "outputId": "6d65f2f1-7150-4832-f855-12b3d51b3939"
      },
      "execution_count": null,
      "outputs": [
        {
          "output_type": "execute_result",
          "data": {
            "text/plain": [
              "<tf.Tensor: shape=(3,), dtype=int32, numpy=array([3, 6, 9], dtype=int32)>"
            ]
          },
          "metadata": {},
          "execution_count": 172
        }
      ]
    },
    {
      "cell_type": "markdown",
      "source": [
        "BUCLES DE ENTRENAMIENTO"
      ],
      "metadata": {
        "id": "Zi6RFt6mhdj9"
      }
    },
    {
      "cell_type": "code",
      "source": [
        "#Genera un grafico con unos x datos que nos daran una nube de puntos y luego crearemos un modelo y entrenaremos estos datos\n",
        "import matplotlib\n",
        "from matplotlib import pyplot as plt"
      ],
      "metadata": {
        "id": "WC_cao0Rhgr5"
      },
      "execution_count": null,
      "outputs": []
    },
    {
      "cell_type": "code",
      "source": [
        "matplotlib.rcParams['figure.figsize'] = [9,6] #El tamanyo de del grafico generado\n",
        "\n",
        "x = tf.linspace(-2, 2, 201) #sobre el eje x, empieza, termina, numero de puntos de la recta\n",
        "x = tf.cast(x , tf.float32) #hacemos un cast a flotante\n",
        "\n",
        "#definimos la funcion de la derivada\n",
        "def f(x):\n",
        "  y = x**2 + 2*x - 5\n",
        "  return y\n",
        "\n",
        "y = f(x) + tf.random.normal(shape=[201])  #me da los valores aleatorios de la recta\n",
        "\n",
        "plt.plot(x.numpy(), y.numpy(), '.', label='Data') #LE PASO en el eje x e y la cadena de puntos, los datos , data\n",
        "plt.plot(x, f(x), label = 'Gorund truth') #le paso la derivada en y y sera el resultado de la funcinon\n",
        "plt.legend();"
      ],
      "metadata": {
        "colab": {
          "base_uri": "https://localhost:8080/",
          "height": 374
        },
        "id": "iJMbpSgQiKcZ",
        "outputId": "a2ce21d9-6331-4026-9ef3-63cc69412d0b"
      },
      "execution_count": null,
      "outputs": [
        {
          "output_type": "display_data",
          "data": {
            "text/plain": [
              "<Figure size 648x432 with 1 Axes>"
            ],
            "image/png": "[encoded data removed]"
          },
          "metadata": {
            "needs_background": "light"
          }
        }
      ]
    },
    {
      "cell_type": "code",
      "source": [
        "#Creamos el modelo para luego entrenarlo\n",
        "class Model(tf.keras.Model):\n",
        "  def __init__(self,units):\n",
        "    super().__init__()\n",
        "    self.dense1 = tf.keras.layers.Dense(units=units,  #con Dense creo las capas\n",
        "                                        activation=tf.nn.relu,\n",
        "                                        kernel_initializer=tf.random.normal,\n",
        "                                        bias_initializer=tf.random.normal)\n",
        "    self.dense2 = tf.keras.layers.Dense(1)\n",
        "  \n",
        "  #llamada a la funcion\n",
        "  def call(self, x, training=True):\n",
        "    x = x[:, tf.newaxis]\n",
        "    x = self.dense1(x)\n",
        "    x = self.dense2(x)\n",
        "    return tf.squeeze(x, axis=1)  #Nos elimina dimensiones de tamaño 1"
      ],
      "metadata": {
        "id": "T2cgz5kxYlvX"
      },
      "execution_count": null,
      "outputs": []
    },
    {
      "cell_type": "code",
      "source": [
        "model = Model(64) #llamamos al model"
      ],
      "metadata": {
        "id": "5ZWQNpwrllMT"
      },
      "execution_count": null,
      "outputs": []
    },
    {
      "cell_type": "code",
      "source": [
        "plt.plot(x.numpy(), y.numpy(), '.', label= 'data')\n",
        "plt.plot(x , f(x), label='Ground truth')\n",
        "plt.plot(x, model(x), label='Untrained predictions') #la preccion no entrenada aun\n",
        "plt.title('Before traing')\n",
        "plt.legend();"
      ],
      "metadata": {
        "colab": {
          "base_uri": "https://localhost:8080/",
          "height": 390
        },
        "id": "pUZCicLZlrDO",
        "outputId": "abcd11ae-2bba-4b49-f8e0-45f39e4d04cf"
      },
      "execution_count": null,
      "outputs": [
        {
          "output_type": "display_data",
          "data": {
            "text/plain": [
              "<Figure size 648x432 with 1 Axes>"
            ],
            "image/png": "[encoded data removed]"
          },
          "metadata": {
            "needs_background": "light"
          }
        }
      ]
    },
    {
      "cell_type": "code",
      "source": [
        "#Entrenamos el modelo\n",
        "\n",
        "variables = model.variables\n",
        "\n",
        "optimizer = tf.optimizers.SGD(learning_rate=0.01) #la velocidad de aprendizaje\n",
        "\n",
        "for step in range(1000):\n",
        "  with tf.GradientTape() as tape: #Definimos el descenso del gradiente\n",
        "    prediction = model(x)\n",
        "    error = (y-prediction)**2\n",
        "    mean_error = tf.reduce_mean(error)  #error cuadratico medio: mide la cantidad de error entre dos conjuntos de datos, compara un valor predicho con un valor ya observado\n",
        "  gradient = tape.gradient(mean_error, variables)\n",
        "  optimizer.apply_gradients(zip(gradient, variables))\n",
        "\n",
        "  if step % 100 == 0: #Cuando termine la ejecucion\n",
        "    print(f'Mean squared error: {mean_error.numpy(): 0.3f}')"
      ],
      "metadata": {
        "colab": {
          "base_uri": "https://localhost:8080/"
        },
        "id": "xW2vEVQkmXI0",
        "outputId": "4385c2d9-085d-4cde-c8d0-dc01d2badf00"
      },
      "execution_count": null,
      "outputs": [
        {
          "output_type": "stream",
          "name": "stdout",
          "text": [
            "Mean squared error:  44.210\n",
            "Mean squared error:  1.076\n",
            "Mean squared error:  1.066\n",
            "Mean squared error:  1.061\n",
            "Mean squared error:  1.057\n",
            "Mean squared error:  1.054\n",
            "Mean squared error:  1.051\n",
            "Mean squared error:  1.049\n",
            "Mean squared error:  1.047\n",
            "Mean squared error:  1.045\n"
          ]
        }
      ]
    },
    {
      "cell_type": "code",
      "source": [
        "#Dibujamos el grafico del entrenamiento\n",
        "plt.plot(x.numpy(), y.numpy(), '.', label='data')\n",
        "plt.plot(x, f(x), label='Ground truth')\n",
        "plt.plot(x, model(x), label='Trained predictions')  #Esta el modelo ya entrenado\n",
        "plt.title('After training')\n",
        "plt.legend();"
      ],
      "metadata": {
        "colab": {
          "base_uri": "https://localhost:8080/",
          "height": 390
        },
        "id": "eZqDSswzrwEs",
        "outputId": "754ea0fe-05fd-4b2b-d3dc-08738813a922"
      },
      "execution_count": null,
      "outputs": [
        {
          "output_type": "display_data",
          "data": {
            "text/plain": [
              "<Figure size 648x432 with 1 Axes>"
            ],
            "image/png": "[encoded data removed]"
          },
          "metadata": {
            "needs_background": "light"
          }
        }
      ]
    },
    {
      "cell_type": "code",
      "source": [
        "#Creamos un entrenamiento\n",
        "new_model = Model(64)"
      ],
      "metadata": {
        "id": "4QqfBYdLs9Eu"
      },
      "execution_count": null,
      "outputs": []
    },
    {
      "cell_type": "code",
      "source": [
        "new_model.compile(\n",
        "    loss = tf.keras.losses.MSE,\n",
        "    optimizer = tf.optimizers.SGD(learning_rate=0.01))\n",
        "\n",
        "history = new_model.fit(x, y,\n",
        "                        epochs=100,   #Numero de iteraciones sobres LOS DATOS TOTALES DE X E Y\n",
        "                        batch_size=32, #Numero de muestras que se actualizan por gradiente\n",
        "                        verbose=0)\n",
        "\n",
        "model.save('./my_model')"
      ],
      "metadata": {
        "colab": {
          "base_uri": "https://localhost:8080/"
        },
        "id": "vwhcKNos4mUB",
        "outputId": "fd95d53c-1b5c-4955-8210-722e3ae02eea"
      },
      "execution_count": null,
      "outputs": [
        {
          "output_type": "stream",
          "name": "stdout",
          "text": [
            "INFO:tensorflow:Assets written to: ./my_model/assets\n"
          ]
        }
      ]
    },
    {
      "cell_type": "code",
      "source": [
        "plt.plot(history.history['loss'])\n",
        "plt.xlabel('Epoch')\n",
        "plt.ylim([0, max(plt.ylim())])  #limitamos el rango desde 0 hasta el maximo de y\n",
        "plt.ylabel('Loss [Mean Squared Error]')\n",
        "plt.title('Keras training progress');"
      ],
      "metadata": {
        "colab": {
          "base_uri": "https://localhost:8080/",
          "height": 404
        },
        "id": "9E4DlLUt6y_K",
        "outputId": "988d7ea0-1745-4c65-fa48-295bee9a12f3"
      },
      "execution_count": null,
      "outputs": [
        {
          "output_type": "display_data",
          "data": {
            "text/plain": [
              "<Figure size 648x432 with 1 Axes>"
            ],
            "image/png": "[encoded data removed]"
          },
          "metadata": {
            "needs_background": "light"
          }
        }
      ]
    }
  ]
}
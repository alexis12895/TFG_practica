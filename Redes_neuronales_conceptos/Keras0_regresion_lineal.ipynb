{
  "nbformat": 4,
  "nbformat_minor": 0,
  "metadata": {
    "colab": {
      "provenance": [],
      "collapsed_sections": [],
      "authorship_tag": "ABX9TyMUHORSdtWm3lVP6gJb7iym",
      "include_colab_link": true
    },
    "kernelspec": {
      "name": "python3",
      "display_name": "Python 3"
    },
    "language_info": {
      "name": "python"
    }
  },
  "cells": [
    {
      "cell_type": "markdown",
      "metadata": {
        "id": "view-in-github",
        "colab_type": "text"
      },
      "source": [
        "<a href=\"https://colab.research.google.com/github/alexis12895/TFG_practica/blob/main/Redes_neuronales_conceptos/Keras0_regresion_lineal.ipynb\" target=\"_parent\"><img src=\"https://colab.research.google.com/assets/colab-badge.svg\" alt=\"Open In Colab\"/></a>"
      ]
    },
    {
      "cell_type": "code",
      "execution_count": null,
      "metadata": {
        "id": "DY96MakI6M4o"
      },
      "outputs": [],
      "source": [
        "import pandas as pd\n",
        "import numpy as np\n",
        "import matplotlib.pyplot as plt\n",
        "\n",
        "#Importamos algunos maodulos de Keras\n",
        "from keras.models import Sequential\n",
        "from keras.layers.core import Dense\n",
        "from tensorflow.keras.optimizers import SGD #Usamos esta linea con TensorFlow, ya que si no, no me dejara importarla\n"
      ]
    },
    {
      "cell_type": "code",
      "source": [
        "#Lectura de datos con pandas\n",
        "datos = pd.read_csv('https://raw.githubusercontent.com/codificandobits/Regresion_Lineal_En_Python/7510626885ead4dd88ea242a7f9e6357868dbb0e/dataset.csv', sep=\",\", skiprows=32, usecols=[2,3])\n",
        "print(datos)\n",
        "\n",
        "x = datos['Age'].values\n",
        "y = datos['Systolic blood pressure'].values\n",
        "\n",
        "#Graficamos los datos para ver como es la tendencia de estos\n",
        "datos.plot.scatter(x='Age', y='Systolic blood pressure')\n",
        "plt.xlabel('Edad (años)')\n",
        "plt.ylabel('Presion sistolica (mm de Mercurio)')\n",
        "plt.show()\n"
      ],
      "metadata": {
        "colab": {
          "base_uri": "https://localhost:8080/",
          "height": 800
        },
        "id": "aP6HQPn6snRs",
        "outputId": "4ef33476-d1e5-4cf1-93e3-ed0192b2e5ee"
      },
      "execution_count": null,
      "outputs": [
        {
          "output_type": "stream",
          "name": "stdout",
          "text": [
            "    Age  Systolic blood pressure\n",
            "0    39                      144\n",
            "1    45                      138\n",
            "2    47                      145\n",
            "3    65                      162\n",
            "4    46                      142\n",
            "5    67                      170\n",
            "6    42                      124\n",
            "7    67                      158\n",
            "8    56                      154\n",
            "9    64                      162\n",
            "10   56                      150\n",
            "11   59                      140\n",
            "12   34                      110\n",
            "13   42                      128\n",
            "14   48                      130\n",
            "15   45                      135\n",
            "16   17                      114\n",
            "17   20                      116\n",
            "18   19                      124\n",
            "19   36                      136\n",
            "20   50                      142\n",
            "21   39                      120\n",
            "22   21                      120\n",
            "23   44                      160\n",
            "24   53                      158\n",
            "25   63                      144\n",
            "26   29                      130\n",
            "27   25                      125\n",
            "28   69                      175\n"
          ]
        },
        {
          "output_type": "display_data",
          "data": {
            "text/plain": [
              "<Figure size 432x288 with 1 Axes>"
            ],
            "image/png": "[encoded data removed]"
          },
          "metadata": {
            "needs_background": "light"
          }
        }
      ]
    },
    {
      "cell_type": "code",
      "source": [
        "#Implementamos el modelo en Keras\n",
        "#Sequential:  este modulo nos permite crear como una caja vacia a la que luego podemos añadirle elementos para definir nuestro modelo\n",
        "\n",
        "#Asi creamos el contenedor\n",
        "np.random.seed(2) #Nos permite replicar el entrenamiento en otro ordenador, garantiza que los parametros se inicializan de forma aleatoria pero con los mismos valores.\n",
        "modelo = Sequential()\n",
        "\n",
        "#Añadimos los elementos a nuestro modelo\n",
        "output_dim = 1 #Especifica el tam de salida, aqui sera el valor de la presion sanguinea, por lo que sera 1(por que es un dato numerico y no un vector, matriz o imagen)\n",
        "input_dim = 1 #Se refiera al tam de los datos de entrada, es esta caso la edad, y la dimension igual es 1, por ser un dato numerico\n",
        "modelo.add(Dense(output_dim, input_dim=input_dim, activation='linear')) #Añadimos con add las capas al modelo, Dense(capa) nos dice que solo hemos añadido una capa al modelo -> activation(linear) nos dice que el modelo tendra un comportamiento lineal\n",
        "\n",
        "#Metodo que se usara para el entranamiento del modelo(Gradiente descendente) con SGD\n",
        "#SGD(Stochastic Gradient Descent), por eso usamos este modulo, ya qu enos permite indicar que el metodo de entrenamiento sera el Graidente Descendente\n",
        "\n",
        "#Creamos una instacia de SGD, con una tasa de aprendizaje\n",
        "sgd = SGD(lr=0.0004)\n",
        "modelo.compile(loss='mse', optimizer=sgd) #Enlazamos el objeto anterior con  el modelo, indicandole que usarremos el error medio cuadratico(mse) y que el modelo hara uso del Gradiente descendente(sgd)\n",
        "\n",
        "#Metodo para impirmir un resumen de las caracteristicas de nuestro modelo\n",
        "modelo.summary()\n"
      ],
      "metadata": {
        "colab": {
          "base_uri": "https://localhost:8080/"
        },
        "id": "etwTsCtNwtzC",
        "outputId": "dcf64ce7-cdf5-43ab-bc86-3a054700fd8d"
      },
      "execution_count": null,
      "outputs": [
        {
          "output_type": "stream",
          "name": "stdout",
          "text": [
            "Model: \"sequential\"\n",
            "_________________________________________________________________\n",
            " Layer (type)                Output Shape              Param #   \n",
            "=================================================================\n",
            " dense (Dense)               (None, 1)                 2         \n",
            "                                                                 \n",
            "=================================================================\n",
            "Total params: 2\n",
            "Trainable params: 2\n",
            "Non-trainable params: 0\n",
            "_________________________________________________________________\n"
          ]
        },
        {
          "output_type": "stream",
          "name": "stderr",
          "text": [
            "/usr/local/lib/python3.7/dist-packages/keras/optimizer_v2/gradient_descent.py:102: UserWarning: The `lr` argument is deprecated, use `learning_rate` instead.\n",
            "  super(SGD, self).__init__(name, **kwargs)\n"
          ]
        }
      ]
    },
    {
      "cell_type": "code",
      "source": [
        "#Entrenamiento: realizmaos la regresion lineal\n",
        "\n",
        "# 40000 iteraciones y todos los datos de entrenamiento (29) se usarán en cada iteración (batch_size = 29)\n",
        "num_epochs = 40000  #el numero de iteracion que usara el entrenamiento para conseguir el minimo error\n",
        "batch_size = x.shape[0] #la cantidad de datos que usaremos en cada iteracion, es este caso decimos que seran 29, es decir todos, por que tenemos poquitos datos\n",
        "historia = modelo.fit(x, y, epochs=num_epochs, batch_size= batch_size, verbose=0) #verbose nos indica si quieremos imprimir en pantalla los reusltados del entrenamiento en cada iteracion, con 0, decimos que NO // historia, guarda los resultados del entrenamiento // fit: metodo para realizar el entranamiento\n",
        "\n",
        "\n",
        "#Resultado: los parametros w y b calculados en el entrenamiento podemos imprimirlos\n",
        "capas = modelo.layers[0]  #Obtenemos la capa del modelo, la lineal\n",
        "w, b = capas.get_weights() #obtenemos los pesos de esa capa, que sera w y  b\n",
        "print('Parametros: w = {:.1f}, b = {:.1f}'.format(w[0][0],b[0]))\n",
        "\n"
      ],
      "metadata": {
        "colab": {
          "base_uri": "https://localhost:8080/"
        },
        "id": "b5pdgaJXHXfv",
        "outputId": "206e683a-bf5c-4c2d-fab5-bffb56f768a8"
      },
      "execution_count": null,
      "outputs": [
        {
          "output_type": "stream",
          "name": "stdout",
          "text": [
            "Parametros: w = 1.0, b = 93.5\n"
          ]
        }
      ]
    },
    {
      "cell_type": "code",
      "source": [
        "#Graficamos los resultados de ECM(error medio cuadratico) vs epochs y e resultado de la regresion lineal(el grafico con la raya roja)\n",
        "plt.subplot(1,2,1)\n",
        "plt.plot(historia.history['loss'])\n",
        "plt.xlabel('epoch')\n",
        "plt.ylabel('ECM')\n",
        "plt.title('ECM vs epochs')\n",
        "\n",
        "y_regr = modelo.predict(x) #linea roja\n",
        "plt.subplot(1,2,2)\n",
        "plt.scatter(x, y)\n",
        "plt.plot(x, y_regr, 'r')\n",
        "plt.title('Datos originales y regresion lineal')\n",
        "plt.show()"
      ],
      "metadata": {
        "colab": {
          "base_uri": "https://localhost:8080/",
          "height": 295
        },
        "id": "fFPna0MFMCRH",
        "outputId": "331ede3b-c7d2-45ff-d0c8-5d8dc19d8ff6"
      },
      "execution_count": null,
      "outputs": [
        {
          "output_type": "display_data",
          "data": {
            "text/plain": [
              "<Figure size 432x288 with 2 Axes>"
            ],
            "image/png": "[encoded data removed]"
          },
          "metadata": {
            "needs_background": "light"
          }
        }
      ]
    },
    {
      "cell_type": "code",
      "source": [
        "#Prediccion: esta prediccion la hacemos una vez este entrenado el modelo y con datos diferentes a los que hemos usado en el entrenamiento\n",
        "\n",
        "x_pred = np.array([90]) #añadimos la edad como un vector de NUmpy\n",
        "y_pred = modelo.predict(x_pred) #metodo para realizar predicciones\n",
        "print(\"La presion sanguinea sera de {:.1f} mm-Hg\".format(y_pred[0][0]), \" para una persona de {} años\".format(x_pred[0])) # el punto estara por arriba de la tabla\n"
      ],
      "metadata": {
        "colab": {
          "base_uri": "https://localhost:8080/"
        },
        "id": "9DSDVgd7PDDQ",
        "outputId": "4bb5fa3d-df52-4623-f3ce-8d1cecbc2b83"
      },
      "execution_count": null,
      "outputs": [
        {
          "output_type": "stream",
          "name": "stdout",
          "text": [
            "La presion sanguinea sera de 185.3 mm-Hg  para una persona de 90 años\n"
          ]
        }
      ]
    },
    {
      "cell_type": "code",
      "source": [],
      "metadata": {
        "id": "vsUXQZqSQUTQ"
      },
      "execution_count": null,
      "outputs": []
    }
  ]
}